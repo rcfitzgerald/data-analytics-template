{
 "cells": [
  {
   "cell_type": "markdown",
   "id": "6d7ca6e7-d6e8-46a3-831d-54b91943cd84",
   "metadata": {},
   "source": [
    "# Project Name\n",
    "## Author: Rose Fitzgerald\n",
    "## Last Modified: ** 11-13-2024 (created 11-13-2024)\n",
    "\n",
    "## Description: ** Short paragraph explaining"
   ]
  },
  {
   "cell_type": "code",
   "execution_count": 5,
   "id": "bc99108c-9a07-453e-af4a-8462fd53b2d1",
   "metadata": {},
   "outputs": [],
   "source": [
    "# Import Libraries"
   ]
  },
  {
   "cell_type": "code",
   "execution_count": 11,
   "id": "36f11b81-2f51-497a-8581-9d81ffcaaa66",
   "metadata": {},
   "outputs": [],
   "source": [
    "import pandas as pd"
   ]
  },
  {
   "cell_type": "code",
   "execution_count": 15,
   "id": "b1e3569d-329e-4628-8200-8a3421aa49fa",
   "metadata": {},
   "outputs": [],
   "source": [
    "# Load Data"
   ]
  },
  {
   "cell_type": "code",
   "execution_count": 17,
   "id": "6ba4227e-6be3-4c92-bf70-18515f874042",
   "metadata": {},
   "outputs": [],
   "source": [
    "# code to load csv"
   ]
  },
  {
   "cell_type": "code",
   "execution_count": null,
   "id": "de2d42d2-40f8-4865-860f-a8f01994346a",
   "metadata": {},
   "outputs": [],
   "source": []
  }
 ],
 "metadata": {
  "kernelspec": {
   "display_name": "Python 3 (ipykernel)",
   "language": "python",
   "name": "python3"
  },
  "language_info": {
   "codemirror_mode": {
    "name": "ipython",
    "version": 3
   },
   "file_extension": ".py",
   "mimetype": "text/x-python",
   "name": "python",
   "nbconvert_exporter": "python",
   "pygments_lexer": "ipython3",
   "version": "3.12.3"
  }
 },
 "nbformat": 4,
 "nbformat_minor": 5
}
