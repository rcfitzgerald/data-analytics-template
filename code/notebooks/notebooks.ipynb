{
 "cells": [
  {
   "cell_type": "markdown",
   "id": "6d7ca6e7-d6e8-46a3-831d-54b91943cd84",
   "metadata": {},
   "source": [
    "# Data Wrangling Final Project \n",
    "## Author: Rose Fitzgerald and Sophia Painovich\n",
    "\n",
    "## Python Jupyter Notebooks (.ipynb) should be run in this order"
   ]
  },
  {
   "cell_type": "code",
   "execution_count": null,
   "id": "de2d42d2-40f8-4865-860f-a8f01994346a",
   "metadata": {},
   "outputs": [],
   "source": []
  }
 ],
 "metadata": {
  "kernelspec": {
   "display_name": "Python 3 (ipykernel)",
   "language": "python",
   "name": "python3"
  },
  "language_info": {
   "codemirror_mode": {
    "name": "ipython",
    "version": 3
   },
   "file_extension": ".py",
   "mimetype": "text/x-python",
   "name": "python",
   "nbconvert_exporter": "python",
   "pygments_lexer": "ipython3",
   "version": "3.12.3"
  }
 },
 "nbformat": 4,
 "nbformat_minor": 5
}
