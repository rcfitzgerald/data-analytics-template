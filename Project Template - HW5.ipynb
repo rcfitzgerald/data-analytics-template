{
 "cells": [
  {
   "cell_type": "markdown",
   "id": "5b1b3769-8a7d-4ba1-8560-0213e767c567",
   "metadata": {},
   "source": [
    "# Project Template - HW5\n",
    "## Data Scraping"
   ]
  },
  {
   "cell_type": "code",
   "execution_count": 2,
   "id": "e5cbd7f0-7dc2-4bbc-9c12-2a5d1c676812",
   "metadata": {},
   "outputs": [],
   "source": [
    "### code goes here"
   ]
  },
  {
   "cell_type": "code",
   "execution_count": null,
   "id": "654e2ac4-f4cf-4d4f-b558-20a29b97c4ef",
   "metadata": {},
   "outputs": [],
   "source": []
  }
 ],
 "metadata": {
  "kernelspec": {
   "display_name": "Python 3 (ipykernel)",
   "language": "python",
   "name": "python3"
  },
  "language_info": {
   "codemirror_mode": {
    "name": "ipython",
    "version": 3
   },
   "file_extension": ".py",
   "mimetype": "text/x-python",
   "name": "python",
   "nbconvert_exporter": "python",
   "pygments_lexer": "ipython3",
   "version": "3.12.3"
  }
 },
 "nbformat": 4,
 "nbformat_minor": 5
}
